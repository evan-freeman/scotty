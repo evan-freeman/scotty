{
 "metadata": {
  "language_info": {
   "codemirror_mode": {
    "name": "ipython",
    "version": 3
   },
   "file_extension": ".py",
   "mimetype": "text/x-python",
   "name": "python",
   "nbconvert_exporter": "python",
   "pygments_lexer": "ipython3",
   "version": "3.7.7-final"
  },
  "orig_nbformat": 2,
  "kernelspec": {
   "name": "python_defaultSpec_1599837263902",
   "display_name": "Python 3.7.7 64-bit ('base': conda)"
  }
 },
 "nbformat": 4,
 "nbformat_minor": 2,
 "cells": [
  {
   "cell_type": "code",
   "execution_count": 8,
   "metadata": {
    "tags": []
   },
   "outputs": [
    {
     "output_type": "execute_result",
     "data": {
      "text/plain": "    num_girls  group_size  possible_to_solve  num_days  \\\n0           4           2               True         3   \n1           4           2               True         3   \n2           4           2               True         3   \n3           4           2               True         3   \n4           4           2               True         3   \n5           4           2               True         3   \n6           4           2               True         3   \n7           4           2               True         3   \n8           4           2               True         3   \n9           4           2               True         3   \n10          4           2               True         3   \n11          4           2               True         3   \n\n    num_possible_solutions  num_actual_solutions  total_solve_time  \\\n0                        1                     1          0.002001   \n1                        1                     1          0.001998   \n2                        1                     1          0.002001   \n3                        1                     1          0.001998   \n4                        1                     1          0.002001   \n5                        1                     1          0.001998   \n6                        1                     1          0.002001   \n7                        1                     1          0.001998   \n8                        1                     1          0.002001   \n9                        1                     1          0.001998   \n10                       1                     1          0.002001   \n11                       1                     1          0.001998   \n\n    solution_num  day_num  group_num       group             named_group  \n0              1        1          1  ('A', 'B')    ('Abigail', 'Belle')  \n1              1        1          1  ('A', 'B')    ('Abigail', 'Belle')  \n2              1        1          2  ('C', 'D')  ('Crystal', 'Delilah')  \n3              1        1          2  ('C', 'D')  ('Crystal', 'Delilah')  \n4              1        2          1  ('A', 'C')  ('Abigail', 'Crystal')  \n5              1        2          1  ('A', 'C')  ('Abigail', 'Crystal')  \n6              1        2          2  ('B', 'D')    ('Belle', 'Delilah')  \n7              1        2          2  ('B', 'D')    ('Belle', 'Delilah')  \n8              1        3          1  ('A', 'D')  ('Abigail', 'Delilah')  \n9              1        3          1  ('A', 'D')  ('Abigail', 'Delilah')  \n10             1        3          2  ('B', 'C')    ('Belle', 'Crystal')  \n11             1        3          2  ('B', 'C')    ('Belle', 'Crystal')  ",
      "text/html": "<div>\n<style scoped>\n    .dataframe tbody tr th:only-of-type {\n        vertical-align: middle;\n    }\n\n    .dataframe tbody tr th {\n        vertical-align: top;\n    }\n\n    .dataframe thead th {\n        text-align: right;\n    }\n</style>\n<table border=\"1\" class=\"dataframe\">\n  <thead>\n    <tr style=\"text-align: right;\">\n      <th></th>\n      <th>num_girls</th>\n      <th>group_size</th>\n      <th>possible_to_solve</th>\n      <th>num_days</th>\n      <th>num_possible_solutions</th>\n      <th>num_actual_solutions</th>\n      <th>total_solve_time</th>\n      <th>solution_num</th>\n      <th>day_num</th>\n      <th>group_num</th>\n      <th>group</th>\n      <th>named_group</th>\n    </tr>\n  </thead>\n  <tbody>\n    <tr>\n      <th>0</th>\n      <td>4</td>\n      <td>2</td>\n      <td>True</td>\n      <td>3</td>\n      <td>1</td>\n      <td>1</td>\n      <td>0.002001</td>\n      <td>1</td>\n      <td>1</td>\n      <td>1</td>\n      <td>('A', 'B')</td>\n      <td>('Abigail', 'Belle')</td>\n    </tr>\n    <tr>\n      <th>1</th>\n      <td>4</td>\n      <td>2</td>\n      <td>True</td>\n      <td>3</td>\n      <td>1</td>\n      <td>1</td>\n      <td>0.001998</td>\n      <td>1</td>\n      <td>1</td>\n      <td>1</td>\n      <td>('A', 'B')</td>\n      <td>('Abigail', 'Belle')</td>\n    </tr>\n    <tr>\n      <th>2</th>\n      <td>4</td>\n      <td>2</td>\n      <td>True</td>\n      <td>3</td>\n      <td>1</td>\n      <td>1</td>\n      <td>0.002001</td>\n      <td>1</td>\n      <td>1</td>\n      <td>2</td>\n      <td>('C', 'D')</td>\n      <td>('Crystal', 'Delilah')</td>\n    </tr>\n    <tr>\n      <th>3</th>\n      <td>4</td>\n      <td>2</td>\n      <td>True</td>\n      <td>3</td>\n      <td>1</td>\n      <td>1</td>\n      <td>0.001998</td>\n      <td>1</td>\n      <td>1</td>\n      <td>2</td>\n      <td>('C', 'D')</td>\n      <td>('Crystal', 'Delilah')</td>\n    </tr>\n    <tr>\n      <th>4</th>\n      <td>4</td>\n      <td>2</td>\n      <td>True</td>\n      <td>3</td>\n      <td>1</td>\n      <td>1</td>\n      <td>0.002001</td>\n      <td>1</td>\n      <td>2</td>\n      <td>1</td>\n      <td>('A', 'C')</td>\n      <td>('Abigail', 'Crystal')</td>\n    </tr>\n    <tr>\n      <th>5</th>\n      <td>4</td>\n      <td>2</td>\n      <td>True</td>\n      <td>3</td>\n      <td>1</td>\n      <td>1</td>\n      <td>0.001998</td>\n      <td>1</td>\n      <td>2</td>\n      <td>1</td>\n      <td>('A', 'C')</td>\n      <td>('Abigail', 'Crystal')</td>\n    </tr>\n    <tr>\n      <th>6</th>\n      <td>4</td>\n      <td>2</td>\n      <td>True</td>\n      <td>3</td>\n      <td>1</td>\n      <td>1</td>\n      <td>0.002001</td>\n      <td>1</td>\n      <td>2</td>\n      <td>2</td>\n      <td>('B', 'D')</td>\n      <td>('Belle', 'Delilah')</td>\n    </tr>\n    <tr>\n      <th>7</th>\n      <td>4</td>\n      <td>2</td>\n      <td>True</td>\n      <td>3</td>\n      <td>1</td>\n      <td>1</td>\n      <td>0.001998</td>\n      <td>1</td>\n      <td>2</td>\n      <td>2</td>\n      <td>('B', 'D')</td>\n      <td>('Belle', 'Delilah')</td>\n    </tr>\n    <tr>\n      <th>8</th>\n      <td>4</td>\n      <td>2</td>\n      <td>True</td>\n      <td>3</td>\n      <td>1</td>\n      <td>1</td>\n      <td>0.002001</td>\n      <td>1</td>\n      <td>3</td>\n      <td>1</td>\n      <td>('A', 'D')</td>\n      <td>('Abigail', 'Delilah')</td>\n    </tr>\n    <tr>\n      <th>9</th>\n      <td>4</td>\n      <td>2</td>\n      <td>True</td>\n      <td>3</td>\n      <td>1</td>\n      <td>1</td>\n      <td>0.001998</td>\n      <td>1</td>\n      <td>3</td>\n      <td>1</td>\n      <td>('A', 'D')</td>\n      <td>('Abigail', 'Delilah')</td>\n    </tr>\n    <tr>\n      <th>10</th>\n      <td>4</td>\n      <td>2</td>\n      <td>True</td>\n      <td>3</td>\n      <td>1</td>\n      <td>1</td>\n      <td>0.002001</td>\n      <td>1</td>\n      <td>3</td>\n      <td>2</td>\n      <td>('B', 'C')</td>\n      <td>('Belle', 'Crystal')</td>\n    </tr>\n    <tr>\n      <th>11</th>\n      <td>4</td>\n      <td>2</td>\n      <td>True</td>\n      <td>3</td>\n      <td>1</td>\n      <td>1</td>\n      <td>0.001998</td>\n      <td>1</td>\n      <td>3</td>\n      <td>2</td>\n      <td>('B', 'C')</td>\n      <td>('Belle', 'Crystal')</td>\n    </tr>\n  </tbody>\n</table>\n</div>"
     },
     "metadata": {},
     "execution_count": 8
    }
   ],
   "source": [
    "import pandas as pd\n",
    "from schoolgirl_solver.solver import full_solve\n",
    "\n",
    "df = pd.read_csv('Kirkman_solutions.tsv', sep = '\\t')\n",
    "\n",
    "df"
   ]
  },
  {
   "cell_type": "code",
   "execution_count": 9,
   "metadata": {},
   "outputs": [
    {
     "output_type": "execute_result",
     "data": {
      "text/plain": "    num_girls  group_size  possible_to_solve  num_days  \\\n0           4           2               True         3   \n2           4           2               True         3   \n4           4           2               True         3   \n6           4           2               True         3   \n8           4           2               True         3   \n10          4           2               True         3   \n\n    num_possible_solutions  num_actual_solutions  total_solve_time  \\\n0                        1                     1          0.002001   \n2                        1                     1          0.002001   \n4                        1                     1          0.002001   \n6                        1                     1          0.002001   \n8                        1                     1          0.002001   \n10                       1                     1          0.002001   \n\n    solution_num  day_num  group_num       group             named_group  \n0              1        1          1  ('A', 'B')    ('Abigail', 'Belle')  \n2              1        1          2  ('C', 'D')  ('Crystal', 'Delilah')  \n4              1        2          1  ('A', 'C')  ('Abigail', 'Crystal')  \n6              1        2          2  ('B', 'D')    ('Belle', 'Delilah')  \n8              1        3          1  ('A', 'D')  ('Abigail', 'Delilah')  \n10             1        3          2  ('B', 'C')    ('Belle', 'Crystal')  ",
      "text/html": "<div>\n<style scoped>\n    .dataframe tbody tr th:only-of-type {\n        vertical-align: middle;\n    }\n\n    .dataframe tbody tr th {\n        vertical-align: top;\n    }\n\n    .dataframe thead th {\n        text-align: right;\n    }\n</style>\n<table border=\"1\" class=\"dataframe\">\n  <thead>\n    <tr style=\"text-align: right;\">\n      <th></th>\n      <th>num_girls</th>\n      <th>group_size</th>\n      <th>possible_to_solve</th>\n      <th>num_days</th>\n      <th>num_possible_solutions</th>\n      <th>num_actual_solutions</th>\n      <th>total_solve_time</th>\n      <th>solution_num</th>\n      <th>day_num</th>\n      <th>group_num</th>\n      <th>group</th>\n      <th>named_group</th>\n    </tr>\n  </thead>\n  <tbody>\n    <tr>\n      <th>0</th>\n      <td>4</td>\n      <td>2</td>\n      <td>True</td>\n      <td>3</td>\n      <td>1</td>\n      <td>1</td>\n      <td>0.002001</td>\n      <td>1</td>\n      <td>1</td>\n      <td>1</td>\n      <td>('A', 'B')</td>\n      <td>('Abigail', 'Belle')</td>\n    </tr>\n    <tr>\n      <th>2</th>\n      <td>4</td>\n      <td>2</td>\n      <td>True</td>\n      <td>3</td>\n      <td>1</td>\n      <td>1</td>\n      <td>0.002001</td>\n      <td>1</td>\n      <td>1</td>\n      <td>2</td>\n      <td>('C', 'D')</td>\n      <td>('Crystal', 'Delilah')</td>\n    </tr>\n    <tr>\n      <th>4</th>\n      <td>4</td>\n      <td>2</td>\n      <td>True</td>\n      <td>3</td>\n      <td>1</td>\n      <td>1</td>\n      <td>0.002001</td>\n      <td>1</td>\n      <td>2</td>\n      <td>1</td>\n      <td>('A', 'C')</td>\n      <td>('Abigail', 'Crystal')</td>\n    </tr>\n    <tr>\n      <th>6</th>\n      <td>4</td>\n      <td>2</td>\n      <td>True</td>\n      <td>3</td>\n      <td>1</td>\n      <td>1</td>\n      <td>0.002001</td>\n      <td>1</td>\n      <td>2</td>\n      <td>2</td>\n      <td>('B', 'D')</td>\n      <td>('Belle', 'Delilah')</td>\n    </tr>\n    <tr>\n      <th>8</th>\n      <td>4</td>\n      <td>2</td>\n      <td>True</td>\n      <td>3</td>\n      <td>1</td>\n      <td>1</td>\n      <td>0.002001</td>\n      <td>1</td>\n      <td>3</td>\n      <td>1</td>\n      <td>('A', 'D')</td>\n      <td>('Abigail', 'Delilah')</td>\n    </tr>\n    <tr>\n      <th>10</th>\n      <td>4</td>\n      <td>2</td>\n      <td>True</td>\n      <td>3</td>\n      <td>1</td>\n      <td>1</td>\n      <td>0.002001</td>\n      <td>1</td>\n      <td>3</td>\n      <td>2</td>\n      <td>('B', 'C')</td>\n      <td>('Belle', 'Crystal')</td>\n    </tr>\n  </tbody>\n</table>\n</div>"
     },
     "metadata": {},
     "execution_count": 9
    }
   ],
   "source": [
    "df = df.drop_duplicates(subset=[\n",
    "                'num_girls',\n",
    "                'group_size',\n",
    "                'possible_to_solve',\n",
    "                'num_days',\n",
    "                'num_possible_solutions',\n",
    "                'num_actual_solutions',\n",
    "                'solution_num',\n",
    "                'day_num',\n",
    "                'group_num',\n",
    "                'group',\n",
    "                'named_group'\n",
    "            ], keep='first')\n",
    "df\n"
   ]
  },
  {
   "cell_type": "code",
   "execution_count": 10,
   "metadata": {},
   "outputs": [
    {
     "output_type": "execute_result",
     "data": {
      "text/plain": "    num_girls  group_size  possible_to_solve  num_days  \\\n0           4           2               True         3   \n2           4           2               True         3   \n4           4           2               True         3   \n6           4           2               True         3   \n8           4           2               True         3   \n10          4           2               True         3   \n\n    num_possible_solutions  num_actual_solutions  total_solve_time  \\\n0                        1                     1          0.002001   \n2                        1                     1          0.002001   \n4                        1                     1          0.002001   \n6                        1                     1          0.002001   \n8                        1                     1          0.002001   \n10                       1                     1          0.002001   \n\n    solution_num  day_num  group_num       group             named_group  \n0              1        1          1  ('A', 'B')    ('Abigail', 'Belle')  \n2              1        1          2  ('C', 'D')  ('Crystal', 'Delilah')  \n4              1        2          1  ('A', 'C')  ('Abigail', 'Crystal')  \n6              1        2          2  ('B', 'D')    ('Belle', 'Delilah')  \n8              1        3          1  ('A', 'D')  ('Abigail', 'Delilah')  \n10             1        3          2  ('B', 'C')    ('Belle', 'Crystal')  ",
      "text/html": "<div>\n<style scoped>\n    .dataframe tbody tr th:only-of-type {\n        vertical-align: middle;\n    }\n\n    .dataframe tbody tr th {\n        vertical-align: top;\n    }\n\n    .dataframe thead th {\n        text-align: right;\n    }\n</style>\n<table border=\"1\" class=\"dataframe\">\n  <thead>\n    <tr style=\"text-align: right;\">\n      <th></th>\n      <th>num_girls</th>\n      <th>group_size</th>\n      <th>possible_to_solve</th>\n      <th>num_days</th>\n      <th>num_possible_solutions</th>\n      <th>num_actual_solutions</th>\n      <th>total_solve_time</th>\n      <th>solution_num</th>\n      <th>day_num</th>\n      <th>group_num</th>\n      <th>group</th>\n      <th>named_group</th>\n    </tr>\n  </thead>\n  <tbody>\n    <tr>\n      <th>0</th>\n      <td>4</td>\n      <td>2</td>\n      <td>True</td>\n      <td>3</td>\n      <td>1</td>\n      <td>1</td>\n      <td>0.002001</td>\n      <td>1</td>\n      <td>1</td>\n      <td>1</td>\n      <td>('A', 'B')</td>\n      <td>('Abigail', 'Belle')</td>\n    </tr>\n    <tr>\n      <th>2</th>\n      <td>4</td>\n      <td>2</td>\n      <td>True</td>\n      <td>3</td>\n      <td>1</td>\n      <td>1</td>\n      <td>0.002001</td>\n      <td>1</td>\n      <td>1</td>\n      <td>2</td>\n      <td>('C', 'D')</td>\n      <td>('Crystal', 'Delilah')</td>\n    </tr>\n    <tr>\n      <th>4</th>\n      <td>4</td>\n      <td>2</td>\n      <td>True</td>\n      <td>3</td>\n      <td>1</td>\n      <td>1</td>\n      <td>0.002001</td>\n      <td>1</td>\n      <td>2</td>\n      <td>1</td>\n      <td>('A', 'C')</td>\n      <td>('Abigail', 'Crystal')</td>\n    </tr>\n    <tr>\n      <th>6</th>\n      <td>4</td>\n      <td>2</td>\n      <td>True</td>\n      <td>3</td>\n      <td>1</td>\n      <td>1</td>\n      <td>0.002001</td>\n      <td>1</td>\n      <td>2</td>\n      <td>2</td>\n      <td>('B', 'D')</td>\n      <td>('Belle', 'Delilah')</td>\n    </tr>\n    <tr>\n      <th>8</th>\n      <td>4</td>\n      <td>2</td>\n      <td>True</td>\n      <td>3</td>\n      <td>1</td>\n      <td>1</td>\n      <td>0.002001</td>\n      <td>1</td>\n      <td>3</td>\n      <td>1</td>\n      <td>('A', 'D')</td>\n      <td>('Abigail', 'Delilah')</td>\n    </tr>\n    <tr>\n      <th>10</th>\n      <td>4</td>\n      <td>2</td>\n      <td>True</td>\n      <td>3</td>\n      <td>1</td>\n      <td>1</td>\n      <td>0.002001</td>\n      <td>1</td>\n      <td>3</td>\n      <td>2</td>\n      <td>('B', 'C')</td>\n      <td>('Belle', 'Crystal')</td>\n    </tr>\n  </tbody>\n</table>\n</div>"
     },
     "metadata": {},
     "execution_count": 10
    }
   ],
   "source": [
    "df = df.sort_values(by=[\n",
    "                'num_girls',\n",
    "                'group_size',\n",
    "                'solution_num',\n",
    "                'day_num',\n",
    "                'group_num',\n",
    "            ])\n",
    "df"
   ]
  },
  {
   "cell_type": "code",
   "execution_count": null,
   "metadata": {},
   "outputs": [],
   "source": []
  }
 ]
}