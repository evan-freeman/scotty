{
 "metadata": {
  "language_info": {
   "codemirror_mode": {
    "name": "ipython",
    "version": 3
   },
   "file_extension": ".py",
   "mimetype": "text/x-python",
   "name": "python",
   "nbconvert_exporter": "python",
   "pygments_lexer": "ipython3",
   "version": "3.7.6-final"
  },
  "orig_nbformat": 2,
  "kernelspec": {
   "name": "python_defaultSpec_1598116743691",
   "display_name": "Python 3.7.7 64-bit ('base': conda)"
  }
 },
 "nbformat": 4,
 "nbformat_minor": 2,
 "cells": [
  {
   "cell_type": "markdown",
   "metadata": {},
   "source": [
    "# Here I will program a solution to Kirkman's schoolgirl problem\n",
    "\n",
    "https://en.wikipedia.org/wiki/Kirkman%27s_schoolgirl_problem"
   ]
  },
  {
   "cell_type": "code",
   "execution_count": 374,
   "metadata": {},
   "outputs": [],
   "source": [
    "import numpy as np\n",
    "from itertools import permutations, combinations\n",
    "import string"
   ]
  },
  {
   "cell_type": "code",
   "execution_count": 375,
   "metadata": {},
   "outputs": [],
   "source": [
    "n = 4\n",
    "g = 2\n",
    "possible = (n - 1) // (g - 1) == (n - 1) / (g - 1)\n",
    "d = (n - 1) // (g - 1)\n",
    "names = {\n",
    "'A': 'Abigail',\n",
    "'B': 'Belle',\n",
    "'C': 'Crystal',\n",
    "'D': 'Delilah',\n",
    "'E': 'Emma',\n",
    "'F': 'Felicia',\n",
    "'G': 'Gabriella',\n",
    "'H': 'Harmony',\n",
    "'I': 'Iris',\n",
    "'J': 'Jasmine',\n",
    "'K': 'Kayleigh',\n",
    "'L': 'Lianna',\n",
    "'M': 'Megan',\n",
    "'N': 'Nadia',\n",
    "'O': 'Olivia',\n",
    "'P': 'Priscilla',\n",
    "'Q': 'Quinn',\n",
    "'R': 'Renee',\n",
    "'S': 'Sami',\n",
    "'T': 'Tiffany',\n",
    "'U': 'Uma',\n",
    "'V': 'Victoria',\n",
    "'W': 'Wendy',\n",
    "'X': 'Xenia',\n",
    "'Y': 'Yasmine',\n",
    "'Z': 'Zoe'}\n",
    "\n",
    "girls = list(string.ascii_uppercase[:n])\n",
    "named_girls = [names[girl] for girl in girls]"
   ]
  },
  {
   "cell_type": "code",
   "execution_count": 376,
   "metadata": {},
   "outputs": [],
   "source": [
    "pairs = list(combinations(girls, 2))\n",
    "groups = combinations(girls, g)\n",
    "days = [day for day in combinations(groups, n // g) if set(girl for group in day for girl in group) == set(girls)]\n",
    "\n",
    "\n"
   ]
  },
  {
   "cell_type": "code",
   "execution_count": 377,
   "metadata": {},
   "outputs": [
    {
     "output_type": "execute_result",
     "data": {
      "text/plain": "[('A', 'B'), ('A', 'C'), ('A', 'D'), ('B', 'C'), ('B', 'D'), ('C', 'D')]"
     },
     "metadata": {},
     "execution_count": 377
    }
   ],
   "source": [
    "list(pairs)"
   ]
  },
  {
   "cell_type": "code",
   "execution_count": 389,
   "metadata": {
    "tags": []
   },
   "outputs": [
    {
     "output_type": "stream",
     "name": "stdout",
     "text": "solution: ((('A', 'B'), ('C', 'D')), (('A', 'C'), ('B', 'D')), (('A', 'D'), ('B', 'C')))\nall_groups: {('C', 'D'), ('A', 'F'), ('B', 'E')}\npair: ('A', 'B')\n\ngroup: ('C', 'D')\n\n[('C', 'D')]\n\ngroup: ('A', 'F')\n\n[('A', 'F')]\n\ngroup: ('B', 'E')\n\n[('B', 'E')]\n\npair: ('A', 'C')\n\ngroup: ('C', 'D')\n\n[('C', 'D')]\n\ngroup: ('A', 'F')\n\n[('A', 'F')]\n\ngroup: ('B', 'E')\n\n[('B', 'E')]\n\npair: ('A', 'D')\n\ngroup: ('C', 'D')\n\n[('C', 'D')]\n\ngroup: ('A', 'F')\n\n[('A', 'F')]\n\ngroup: ('B', 'E')\n\n[('B', 'E')]\n\npair: ('B', 'C')\n\ngroup: ('C', 'D')\n\n[('C', 'D')]\n\ngroup: ('A', 'F')\n\n[('A', 'F')]\n\ngroup: ('B', 'E')\n\n[('B', 'E')]\n\npair: ('B', 'D')\n\ngroup: ('C', 'D')\n\n[('C', 'D')]\n\ngroup: ('A', 'F')\n\n[('A', 'F')]\n\ngroup: ('B', 'E')\n\n[('B', 'E')]\n\npair: ('C', 'D')\n\ngroup: ('C', 'D')\n\n[('C', 'D')]\n\n1\ngroup: ('A', 'F')\n\n[('A', 'F')]\n\ngroup: ('B', 'E')\n\n[('B', 'E')]\n\n((('A', 'B'), ('C', 'D')), (('A', 'C'), ('B', 'D')), (('A', 'D'), ('B', 'C')))\n{('A', 'B'): 0, ('A', 'C'): 0, ('A', 'D'): 0, ('B', 'C'): 0, ('B', 'D'): 0, ('C', 'D'): 1}\n\n"
    }
   ],
   "source": [
    "solutions = []\n",
    "for solution in combinations(days, d):\n",
    "    print(f'solution: {solution}')\n",
    "    all_groups = set(group for group in day for day in solution)\n",
    "    print(f'all_groups: {all_groups}')\n",
    "    pair_counts = {}\n",
    "    for pair in pairs:\n",
    "        print(f'pair: {pair}')\n",
    "        print()\n",
    "        count = 0\n",
    "        for group in all_groups:\n",
    "            print(f'group: {group}')\n",
    "            print()\n",
    "            print(list(combinations(group, 2)))\n",
    "            print()\n",
    "            if pair in list(combinations(group, 2)):\n",
    "                count += 1\n",
    "                print(count)\n",
    "        pair_counts[pair] = count\n",
    "    print(solution)\n",
    "    print(pair_counts)\n",
    "    print()\n"
   ]
  },
  {
   "cell_type": "code",
   "execution_count": 379,
   "metadata": {},
   "outputs": [
    {
     "output_type": "error",
     "ename": "NameError",
     "evalue": "name 'pairs_counts' is not defined",
     "traceback": [
      "\u001b[1;31m---------------------------------------------------------------------------\u001b[0m",
      "\u001b[1;31mNameError\u001b[0m                                 Traceback (most recent call last)",
      "\u001b[1;32m<ipython-input-379-8582afb50169>\u001b[0m in \u001b[0;36m<module>\u001b[1;34m\u001b[0m\n\u001b[1;32m----> 1\u001b[1;33m \u001b[0mpairs_counts\u001b[0m\u001b[1;33m\u001b[0m\u001b[1;33m\u001b[0m\u001b[0m\n\u001b[0m",
      "\u001b[1;31mNameError\u001b[0m: name 'pairs_counts' is not defined"
     ]
    }
   ],
   "source": [
    "pairs_counts"
   ]
  },
  {
   "cell_type": "code",
   "execution_count": 380,
   "metadata": {},
   "outputs": [
    {
     "output_type": "execute_result",
     "data": {
      "text/plain": "True"
     },
     "metadata": {},
     "execution_count": 380
    }
   ],
   "source": [
    "possible"
   ]
  },
  {
   "cell_type": "code",
   "execution_count": 381,
   "metadata": {},
   "outputs": [
    {
     "output_type": "execute_result",
     "data": {
      "text/plain": "['A', 'B', 'C', 'D']"
     },
     "metadata": {},
     "execution_count": 381
    }
   ],
   "source": [
    "girls"
   ]
  },
  {
   "cell_type": "code",
   "execution_count": 382,
   "metadata": {},
   "outputs": [
    {
     "output_type": "execute_result",
     "data": {
      "text/plain": "['Abigail', 'Belle', 'Crystal', 'Delilah']"
     },
     "metadata": {},
     "execution_count": 382
    }
   ],
   "source": [
    "named_girls"
   ]
  },
  {
   "cell_type": "code",
   "execution_count": 383,
   "metadata": {
    "tags": []
   },
   "outputs": [
    {
     "output_type": "execute_result",
     "data": {
      "text/plain": "[(('A', 'B'), ('C', 'D')), (('A', 'C'), ('B', 'D')), (('A', 'D'), ('B', 'C'))]"
     },
     "metadata": {},
     "execution_count": 383
    }
   ],
   "source": [
    "days"
   ]
  },
  {
   "cell_type": "code",
   "execution_count": 384,
   "metadata": {
    "tags": []
   },
   "outputs": [],
   "source": [
    "for i, solution in enumerate(solutions, 1):\n",
    "    print(f'Solution #{i}')\n",
    "    for j, day in enumerate(solution, 1):\n",
    "        print(f'Day #{j}')\n",
    "        print(day)\n",
    "    print()"
   ]
  },
  {
   "cell_type": "code",
   "execution_count": null,
   "metadata": {},
   "outputs": [],
   "source": []
  }
 ]
}