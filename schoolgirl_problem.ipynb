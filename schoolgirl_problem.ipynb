{
 "metadata": {
  "language_info": {
   "codemirror_mode": {
    "name": "ipython",
    "version": 3
   },
   "file_extension": ".py",
   "mimetype": "text/x-python",
   "name": "python",
   "nbconvert_exporter": "python",
   "pygments_lexer": "ipython3",
   "version": "3.7.7-final"
  },
  "orig_nbformat": 2,
  "kernelspec": {
   "name": "python_defaultSpec_1598210039594",
   "display_name": "Python 3.7.7 64-bit ('base': conda)"
  }
 },
 "nbformat": 4,
 "nbformat_minor": 2,
 "cells": [
  {
   "cell_type": "markdown",
   "metadata": {},
   "source": [
    "# Here I will program a solution to Kirkman's schoolgirl problem\n",
    "\n",
    "https://en.wikipedia.org/wiki/Kirkman%27s_schoolgirl_problem"
   ]
  },
  {
   "cell_type": "code",
   "execution_count": 1,
   "metadata": {},
   "outputs": [],
   "source": [
    "import numpy as np\n",
    "from itertools import permutations, combinations\n",
    "import string\n",
    "import time\n",
    "import math"
   ]
  },
  {
   "cell_type": "code",
   "execution_count": 2,
   "metadata": {
    "tags": []
   },
   "outputs": [],
   "source": [
    "def nCr(n,r):\n",
    "    f = math.factorial\n",
    "    return f(n) // f(r) // f(n-r)\n",
    "\n",
    "def schoolgirl_possibilities(n, g):\n",
    "    try:        \n",
    "        possible = (n - 1) // (g - 1) == (n - 1) / (g - 1)\n",
    "        \n",
    "        if not possible:\n",
    "            # print(f'There can be no solution for n = {n} and g = {g}.')\n",
    "            return False\n",
    "\n",
    "        else:\n",
    "            d = (n - 1) // (g - 1)\n",
    "\n",
    "       \n",
    "\n",
    "            girls = list(string.ascii_uppercase[:n])\n",
    "    \n",
    "            pairs = list(combinations(girls, 2))\n",
    "            groups = combinations(girls, g)\n",
    "            days = [day for day in combinations(groups, n // g) if set(girl for group in day for girl in group) == set(girls)]\n",
    "            \n",
    "            print('*' * 150)\n",
    "            print(f'Number of possible solutions for n = {n} and g = {g} : {nCr(len(days), d):,}')\n",
    "            print('*' * 150)\n",
    "    except:\n",
    "        return False\n",
    "    \n",
    "\n",
    "def schoolgirl(n, g, full_names = False):\n",
    "    try:\n",
    "        start_time = time.time()\n",
    "        print('*' * 150)\n",
    "\n",
    "        possible = (n - 1) // (g - 1) == (n - 1) / (g - 1)\n",
    "        \n",
    "        if not possible:\n",
    "            print(f'There can be no solution for n = {n} and g = {g}.')\n",
    "\n",
    "        else:\n",
    "            d = (n - 1) // (g - 1)\n",
    "\n",
    "            names = {\n",
    "            'A': 'Abigail',\n",
    "            'B': 'Belle',\n",
    "            'C': 'Crystal',\n",
    "            'D': 'Delilah',\n",
    "            'E': 'Emma',\n",
    "            'F': 'Felicia',\n",
    "            'G': 'Gabriella',\n",
    "            'H': 'Harmony',\n",
    "            'I': 'Iris',\n",
    "            'J': 'Jasmine',\n",
    "            'K': 'Kayleigh',\n",
    "            'L': 'Lianna',\n",
    "            'M': 'Megan',\n",
    "            'N': 'Nadia',\n",
    "            'O': 'Olivia',\n",
    "            'P': 'Priscilla',\n",
    "            'Q': 'Quinn',\n",
    "            'R': 'Renee',\n",
    "            'S': 'Sami',\n",
    "            'T': 'Tiffany',\n",
    "            'U': 'Uma',\n",
    "            'V': 'Victoria',\n",
    "            'W': 'Wendy',\n",
    "            'X': 'Xenia',\n",
    "            'Y': 'Yasmine',\n",
    "            'Z': 'Zoe'}\n",
    "\n",
    "            girls = list(string.ascii_uppercase[:n])\n",
    "            named_girls = [names[girl] for girl in girls]\n",
    "            if full_names:\n",
    "                girls = named_girls\n",
    "    \n",
    "            pairs = list(combinations(girls, 2))\n",
    "            groups = combinations(girls, g)\n",
    "            days = [day for day in combinations(groups, n // g) if set(girl for group in day for girl in group) == set(girls)]\n",
    "            \n",
    "            print(f'Number of possible solutions for n = {n} and g = {g}: {nCr(len(days), d):,}')\n",
    "            print()\n",
    "\n",
    "\n",
    "            solutions = []\n",
    "            for i, solution in enumerate(combinations(days, d)):\n",
    "                if i%(10**6) == 0:\n",
    "                    print(f'Checking solution #{i}')\n",
    "                    print()\n",
    "                \n",
    "                all_groups = list(group for day in solution for group in day)\n",
    "                pair_counts = {}\n",
    "                for pair in pairs:\n",
    "                    count = 0\n",
    "                    for group in all_groups:\n",
    "                        if pair in list(combinations(group, 2)):\n",
    "                            count += 1\n",
    "                    pair_counts[pair] = count\n",
    "                if np.all([count == 1 for count in pair_counts.values()]):\n",
    "                    solutions.append(solution)\n",
    "\n",
    "            if not solutions:\n",
    "                print(f'There happen to be no solutions for n = {n} and g = {g}.')\n",
    "            else:\n",
    "                print(f'Here are the solutions for n = {n} and g = {g}.')\n",
    "                print()\n",
    "                for i, solution in enumerate(solutions, 1):\n",
    "                    print(f'Solution #{i}')\n",
    "                    for j, day in enumerate(solution, 1):\n",
    "                        print(f'Day #{j}')\n",
    "                        print(day)\n",
    "                    print()\n",
    "\n",
    "        end_time = time.time()\n",
    "        total_time = end_time - start_time\n",
    "        print(f'time elapsed: {total_time:.4}s')\n",
    "        \n",
    "    except:\n",
    "        print(f'There can be no solution for n = {n} and g = {g}.')\n",
    "    print('*' * 150)\n"
   ]
  },
  {
   "cell_type": "code",
   "execution_count": 3,
   "metadata": {
    "tags": []
   },
   "outputs": [
    {
     "output_type": "stream",
     "name": "stdout",
     "text": "******************************************************************************************************************************************************\nNumber of possible solutions for n = 2 and g = 2 : 1\n******************************************************************************************************************************************************\n******************************************************************************************************************************************************\n******************************************************************************************************************************************************\nNumber of possible solutions for n = 3 and g = 3 : 1\n******************************************************************************************************************************************************\n******************************************************************************************************************************************************\nNumber of possible solutions for n = 4 and g = 2 : 1\n******************************************************************************************************************************************************\n******************************************************************************************************************************************************\nNumber of possible solutions for n = 4 and g = 4 : 1\n******************************************************************************************************************************************************\n******************************************************************************************************************************************************\n******************************************************************************************************************************************************\n******************************************************************************************************************************************************\nNumber of possible solutions for n = 5 and g = 5 : 1\n******************************************************************************************************************************************************\n******************************************************************************************************************************************************\nNumber of possible solutions for n = 6 and g = 2 : 3,003\n******************************************************************************************************************************************************\n******************************************************************************************************************************************************\nNumber of possible solutions for n = 6 and g = 6 : 1\n******************************************************************************************************************************************************\n******************************************************************************************************************************************************\n******************************************************************************************************************************************************\n******************************************************************************************************************************************************\n******************************************************************************************************************************************************\nNumber of possible solutions for n = 7 and g = 7 : 1\n******************************************************************************************************************************************************\n******************************************************************************************************************************************************\nNumber of possible solutions for n = 8 and g = 2 : 22,760,723,700\n******************************************************************************************************************************************************\n******************************************************************************************************************************************************\nNumber of possible solutions for n = 8 and g = 8 : 1\n******************************************************************************************************************************************************\n******************************************************************************************************************************************************\n******************************************************************************************************************************************************\nNumber of possible solutions for n = 9 and g = 3 : 250,654,530\n******************************************************************************************************************************************************\n******************************************************************************************************************************************************\n******************************************************************************************************************************************************\nNumber of possible solutions for n = 9 and g = 9 : 1\n******************************************************************************************************************************************************\n******************************************************************************************************************************************************\nNumber of possible solutions for n = 10 and g = 2 : 1,594,148,827,293,519,747,810\n******************************************************************************************************************************************************\n******************************************************************************************************************************************************\n******************************************************************************************************************************************************\nNumber of possible solutions for n = 10 and g = 10 : 1\n******************************************************************************************************************************************************\n"
    }
   ],
   "source": [
    "for n in range(2, 11):\n",
    "    for g in range(2, n + 1):\n",
    "        schoolgirl_possibilities(n, g)"
   ]
  },
  {
   "cell_type": "code",
   "execution_count": 4,
   "metadata": {
    "tags": []
   },
   "outputs": [
    {
     "output_type": "stream",
     "name": "stdout",
     "text": "******************************************************************************************************************************************************\nNumber of possible solutions for n = 4 and g = 2: 1\n\nChecking solution #0\n\nHere are the solutions for n = 4 and g = 2.\n\nSolution #1\nDay #1\n(('A', 'B'), ('C', 'D'))\nDay #2\n(('A', 'C'), ('B', 'D'))\nDay #3\n(('A', 'D'), ('B', 'C'))\n\ntime elapsed: 0.0009987s\n******************************************************************************************************************************************************\n"
    }
   ],
   "source": [
    "schoolgirl(4, 2)"
   ]
  },
  {
   "cell_type": "code",
   "execution_count": 5,
   "metadata": {
    "tags": []
   },
   "outputs": [
    {
     "output_type": "stream",
     "name": "stdout",
     "text": "******************************************************************************************************************************************************\nNumber of possible solutions for n = 4 and g = 2: 1\n\nChecking solution #0\n\nHere are the solutions for n = 4 and g = 2.\n\nSolution #1\nDay #1\n(('Abigail', 'Belle'), ('Crystal', 'Delilah'))\nDay #2\n(('Abigail', 'Crystal'), ('Belle', 'Delilah'))\nDay #3\n(('Abigail', 'Delilah'), ('Belle', 'Crystal'))\n\ntime elapsed: 0.0009992s\n******************************************************************************************************************************************************\n"
    }
   ],
   "source": [
    "schoolgirl(4, 2, True)"
   ]
  },
  {
   "cell_type": "code",
   "execution_count": 6,
   "metadata": {
    "tags": []
   },
   "outputs": [
    {
     "output_type": "stream",
     "name": "stdout",
     "text": "******************************************************************************************************************************************************\nNumber of possible solutions for n = 6 and g = 2: 3,003\n\nChecking solution #0\n\nHere are the solutions for n = 6 and g = 2.\n\nSolution #1\nDay #1\n(('A', 'B'), ('C', 'D'), ('E', 'F'))\nDay #2\n(('A', 'C'), ('B', 'E'), ('D', 'F'))\nDay #3\n(('A', 'D'), ('B', 'F'), ('C', 'E'))\nDay #4\n(('A', 'E'), ('B', 'D'), ('C', 'F'))\nDay #5\n(('A', 'F'), ('B', 'C'), ('D', 'E'))\n\nSolution #2\nDay #1\n(('A', 'B'), ('C', 'D'), ('E', 'F'))\nDay #2\n(('A', 'C'), ('B', 'F'), ('D', 'E'))\nDay #3\n(('A', 'D'), ('B', 'E'), ('C', 'F'))\nDay #4\n(('A', 'E'), ('B', 'C'), ('D', 'F'))\nDay #5\n(('A', 'F'), ('B', 'D'), ('C', 'E'))\n\nSolution #3\nDay #1\n(('A', 'B'), ('C', 'E'), ('D', 'F'))\nDay #2\n(('A', 'C'), ('B', 'D'), ('E', 'F'))\nDay #3\n(('A', 'D'), ('B', 'E'), ('C', 'F'))\nDay #4\n(('A', 'E'), ('B', 'F'), ('C', 'D'))\nDay #5\n(('A', 'F'), ('B', 'C'), ('D', 'E'))\n\nSolution #4\nDay #1\n(('A', 'B'), ('C', 'E'), ('D', 'F'))\nDay #2\n(('A', 'C'), ('B', 'F'), ('D', 'E'))\nDay #3\n(('A', 'D'), ('B', 'C'), ('E', 'F'))\nDay #4\n(('A', 'E'), ('B', 'D'), ('C', 'F'))\nDay #5\n(('A', 'F'), ('B', 'E'), ('C', 'D'))\n\nSolution #5\nDay #1\n(('A', 'B'), ('C', 'F'), ('D', 'E'))\nDay #2\n(('A', 'C'), ('B', 'D'), ('E', 'F'))\nDay #3\n(('A', 'D'), ('B', 'F'), ('C', 'E'))\nDay #4\n(('A', 'E'), ('B', 'C'), ('D', 'F'))\nDay #5\n(('A', 'F'), ('B', 'E'), ('C', 'D'))\n\nSolution #6\nDay #1\n(('A', 'B'), ('C', 'F'), ('D', 'E'))\nDay #2\n(('A', 'C'), ('B', 'E'), ('D', 'F'))\nDay #3\n(('A', 'D'), ('B', 'C'), ('E', 'F'))\nDay #4\n(('A', 'E'), ('B', 'F'), ('C', 'D'))\nDay #5\n(('A', 'F'), ('B', 'D'), ('C', 'E'))\n\ntime elapsed: 0.3649s\n******************************************************************************************************************************************************\n"
    }
   ],
   "source": [
    "schoolgirl(6, 2)"
   ]
  },
  {
   "cell_type": "code",
   "execution_count": 7,
   "metadata": {
    "tags": []
   },
   "outputs": [
    {
     "output_type": "stream",
     "name": "stdout",
     "text": "******************************************************************************************************************************************************\nThere can be no solution for n = 6 and g = 3.\ntime elapsed: 0.0s\n******************************************************************************************************************************************************\n"
    }
   ],
   "source": [
    "schoolgirl(6, 3)"
   ]
  },
  {
   "cell_type": "code",
   "execution_count": 8,
   "metadata": {
    "tags": []
   },
   "outputs": [
    {
     "output_type": "stream",
     "name": "stdout",
     "text": "******************************************************************************************************************************************************\nNumber of possible solutions for n = 9 and g = 3: 250,654,530\n\n0\n((('A', 'B', 'C'), ('D', 'E', 'F'), ('G', 'H', 'I')), (('A', 'B', 'C'), ('D', 'E', 'G'), ('F', 'H', 'I')), (('A', 'B', 'C'), ('D', 'E', 'H'), ('F', 'G', 'I')), (('A', 'B', 'C'), ('D', 'E', 'I'), ('F', 'G', 'H')))\n\nThere can be no solution for n = 9 and g = 3.\n******************************************************************************************************************************************************\n"
    }
   ],
   "source": [
    "schoolgirl(9, 3)"
   ]
  },
  {
   "cell_type": "code",
   "execution_count": 9,
   "metadata": {
    "tags": []
   },
   "outputs": [
    {
     "output_type": "stream",
     "name": "stdout",
     "text": "******************************************************************************************************************************************************\nNumber of possible solutions: 22,760,723,700\n\n0\n((('A', 'B'), ('C', 'D'), ('E', 'F'), ('G', 'H')), (('A', 'B'), ('C', 'D'), ('E', 'G'), ('F', 'H')), (('A', 'B'), ('C', 'D'), ('E', 'H'), ('F', 'G')), (('A', 'B'), ('C', 'E'), ('D', 'F'), ('G', 'H')), (('A', 'B'), ('C', 'E'), ('D', 'G'), ('F', 'H')), (('A', 'B'), ('C', 'E'), ('D', 'H'), ('F', 'G')), (('A', 'B'), ('C', 'F'), ('D', 'E'), ('G', 'H')))\n\n"
    },
    {
     "output_type": "error",
     "ename": "KeyboardInterrupt",
     "evalue": "",
     "traceback": [
      "\u001b[1;31m---------------------------------------------------------------------------\u001b[0m",
      "\u001b[1;31mKeyboardInterrupt\u001b[0m                         Traceback (most recent call last)",
      "\u001b[1;32m<ipython-input-9-ef2df9988b18>\u001b[0m in \u001b[0;36m<module>\u001b[1;34m\u001b[0m\n\u001b[1;32m----> 1\u001b[1;33m \u001b[0mschoolgirl\u001b[0m\u001b[1;33m(\u001b[0m\u001b[1;36m8\u001b[0m\u001b[1;33m,\u001b[0m \u001b[1;36m2\u001b[0m\u001b[1;33m)\u001b[0m\u001b[1;33m\u001b[0m\u001b[1;33m\u001b[0m\u001b[0m\n\u001b[0m",
      "\u001b[1;32m<ipython-input-2-a0f2141ba576>\u001b[0m in \u001b[0;36mschoolgirl\u001b[1;34m(n, g, full_names)\u001b[0m\n\u001b[0;32m     69\u001b[0m                 \u001b[0mcount\u001b[0m \u001b[1;33m=\u001b[0m \u001b[1;36m0\u001b[0m\u001b[1;33m\u001b[0m\u001b[1;33m\u001b[0m\u001b[0m\n\u001b[0;32m     70\u001b[0m                 \u001b[1;32mfor\u001b[0m \u001b[0mgroup\u001b[0m \u001b[1;32min\u001b[0m \u001b[0mall_groups\u001b[0m\u001b[1;33m:\u001b[0m\u001b[1;33m\u001b[0m\u001b[1;33m\u001b[0m\u001b[0m\n\u001b[1;32m---> 71\u001b[1;33m                     \u001b[1;32mif\u001b[0m \u001b[0mpair\u001b[0m \u001b[1;32min\u001b[0m \u001b[0mlist\u001b[0m\u001b[1;33m(\u001b[0m\u001b[0mcombinations\u001b[0m\u001b[1;33m(\u001b[0m\u001b[0mgroup\u001b[0m\u001b[1;33m,\u001b[0m \u001b[1;36m2\u001b[0m\u001b[1;33m)\u001b[0m\u001b[1;33m)\u001b[0m\u001b[1;33m:\u001b[0m\u001b[1;33m\u001b[0m\u001b[1;33m\u001b[0m\u001b[0m\n\u001b[0m\u001b[0;32m     72\u001b[0m                         \u001b[0mcount\u001b[0m \u001b[1;33m+=\u001b[0m \u001b[1;36m1\u001b[0m\u001b[1;33m\u001b[0m\u001b[1;33m\u001b[0m\u001b[0m\n\u001b[0;32m     73\u001b[0m                 \u001b[0mpair_counts\u001b[0m\u001b[1;33m[\u001b[0m\u001b[0mpair\u001b[0m\u001b[1;33m]\u001b[0m \u001b[1;33m=\u001b[0m \u001b[0mcount\u001b[0m\u001b[1;33m\u001b[0m\u001b[1;33m\u001b[0m\u001b[0m\n",
      "\u001b[1;31mKeyboardInterrupt\u001b[0m: "
     ]
    }
   ],
   "source": [
    "schoolgirl(8, 2)"
   ]
  },
  {
   "cell_type": "code",
   "execution_count": 10,
   "metadata": {
    "tags": []
   },
   "outputs": [
    {
     "output_type": "stream",
     "name": "stdout",
     "text": "******************************************************************************************************************************************************\n"
    },
    {
     "output_type": "error",
     "ename": "KeyboardInterrupt",
     "evalue": "",
     "traceback": [
      "\u001b[1;31m---------------------------------------------------------------------------\u001b[0m",
      "\u001b[1;31mKeyboardInterrupt\u001b[0m                         Traceback (most recent call last)",
      "\u001b[1;32m<ipython-input-10-d5958e369fa3>\u001b[0m in \u001b[0;36m<module>\u001b[1;34m\u001b[0m\n\u001b[1;32m----> 1\u001b[1;33m \u001b[0mschoolgirl\u001b[0m\u001b[1;33m(\u001b[0m\u001b[1;36m15\u001b[0m\u001b[1;33m,\u001b[0m \u001b[1;36m3\u001b[0m\u001b[1;33m)\u001b[0m\u001b[1;33m\u001b[0m\u001b[1;33m\u001b[0m\u001b[0m\n\u001b[0m",
      "\u001b[1;32m<ipython-input-2-a0f2141ba576>\u001b[0m in \u001b[0;36mschoolgirl\u001b[1;34m(n, g, full_names)\u001b[0m\n\u001b[0;32m     51\u001b[0m         \u001b[0mpairs\u001b[0m \u001b[1;33m=\u001b[0m \u001b[0mlist\u001b[0m\u001b[1;33m(\u001b[0m\u001b[0mcombinations\u001b[0m\u001b[1;33m(\u001b[0m\u001b[0mgirls\u001b[0m\u001b[1;33m,\u001b[0m \u001b[1;36m2\u001b[0m\u001b[1;33m)\u001b[0m\u001b[1;33m)\u001b[0m\u001b[1;33m\u001b[0m\u001b[1;33m\u001b[0m\u001b[0m\n\u001b[0;32m     52\u001b[0m         \u001b[0mgroups\u001b[0m \u001b[1;33m=\u001b[0m \u001b[0mcombinations\u001b[0m\u001b[1;33m(\u001b[0m\u001b[0mgirls\u001b[0m\u001b[1;33m,\u001b[0m \u001b[0mg\u001b[0m\u001b[1;33m)\u001b[0m\u001b[1;33m\u001b[0m\u001b[1;33m\u001b[0m\u001b[0m\n\u001b[1;32m---> 53\u001b[1;33m         \u001b[0mdays\u001b[0m \u001b[1;33m=\u001b[0m \u001b[1;33m[\u001b[0m\u001b[0mday\u001b[0m \u001b[1;32mfor\u001b[0m \u001b[0mday\u001b[0m \u001b[1;32min\u001b[0m \u001b[0mcombinations\u001b[0m\u001b[1;33m(\u001b[0m\u001b[0mgroups\u001b[0m\u001b[1;33m,\u001b[0m \u001b[0mn\u001b[0m \u001b[1;33m//\u001b[0m \u001b[0mg\u001b[0m\u001b[1;33m)\u001b[0m \u001b[1;32mif\u001b[0m \u001b[0mset\u001b[0m\u001b[1;33m(\u001b[0m\u001b[0mgirl\u001b[0m \u001b[1;32mfor\u001b[0m \u001b[0mgroup\u001b[0m \u001b[1;32min\u001b[0m \u001b[0mday\u001b[0m \u001b[1;32mfor\u001b[0m \u001b[0mgirl\u001b[0m \u001b[1;32min\u001b[0m \u001b[0mgroup\u001b[0m\u001b[1;33m)\u001b[0m \u001b[1;33m==\u001b[0m \u001b[0mset\u001b[0m\u001b[1;33m(\u001b[0m\u001b[0mgirls\u001b[0m\u001b[1;33m)\u001b[0m\u001b[1;33m]\u001b[0m\u001b[1;33m\u001b[0m\u001b[1;33m\u001b[0m\u001b[0m\n\u001b[0m\u001b[0;32m     54\u001b[0m \u001b[1;33m\u001b[0m\u001b[0m\n\u001b[0;32m     55\u001b[0m         \u001b[0mprint\u001b[0m\u001b[1;33m(\u001b[0m\u001b[1;34mf'Number of possible solutions: {nCr(len(days), d):,}'\u001b[0m\u001b[1;33m)\u001b[0m\u001b[1;33m\u001b[0m\u001b[1;33m\u001b[0m\u001b[0m\n",
      "\u001b[1;32m<ipython-input-2-a0f2141ba576>\u001b[0m in \u001b[0;36m<listcomp>\u001b[1;34m(.0)\u001b[0m\n\u001b[0;32m     51\u001b[0m         \u001b[0mpairs\u001b[0m \u001b[1;33m=\u001b[0m \u001b[0mlist\u001b[0m\u001b[1;33m(\u001b[0m\u001b[0mcombinations\u001b[0m\u001b[1;33m(\u001b[0m\u001b[0mgirls\u001b[0m\u001b[1;33m,\u001b[0m \u001b[1;36m2\u001b[0m\u001b[1;33m)\u001b[0m\u001b[1;33m)\u001b[0m\u001b[1;33m\u001b[0m\u001b[1;33m\u001b[0m\u001b[0m\n\u001b[0;32m     52\u001b[0m         \u001b[0mgroups\u001b[0m \u001b[1;33m=\u001b[0m \u001b[0mcombinations\u001b[0m\u001b[1;33m(\u001b[0m\u001b[0mgirls\u001b[0m\u001b[1;33m,\u001b[0m \u001b[0mg\u001b[0m\u001b[1;33m)\u001b[0m\u001b[1;33m\u001b[0m\u001b[1;33m\u001b[0m\u001b[0m\n\u001b[1;32m---> 53\u001b[1;33m         \u001b[0mdays\u001b[0m \u001b[1;33m=\u001b[0m \u001b[1;33m[\u001b[0m\u001b[0mday\u001b[0m \u001b[1;32mfor\u001b[0m \u001b[0mday\u001b[0m \u001b[1;32min\u001b[0m \u001b[0mcombinations\u001b[0m\u001b[1;33m(\u001b[0m\u001b[0mgroups\u001b[0m\u001b[1;33m,\u001b[0m \u001b[0mn\u001b[0m \u001b[1;33m//\u001b[0m \u001b[0mg\u001b[0m\u001b[1;33m)\u001b[0m \u001b[1;32mif\u001b[0m \u001b[0mset\u001b[0m\u001b[1;33m(\u001b[0m\u001b[0mgirl\u001b[0m \u001b[1;32mfor\u001b[0m \u001b[0mgroup\u001b[0m \u001b[1;32min\u001b[0m \u001b[0mday\u001b[0m \u001b[1;32mfor\u001b[0m \u001b[0mgirl\u001b[0m \u001b[1;32min\u001b[0m \u001b[0mgroup\u001b[0m\u001b[1;33m)\u001b[0m \u001b[1;33m==\u001b[0m \u001b[0mset\u001b[0m\u001b[1;33m(\u001b[0m\u001b[0mgirls\u001b[0m\u001b[1;33m)\u001b[0m\u001b[1;33m]\u001b[0m\u001b[1;33m\u001b[0m\u001b[1;33m\u001b[0m\u001b[0m\n\u001b[0m\u001b[0;32m     54\u001b[0m \u001b[1;33m\u001b[0m\u001b[0m\n\u001b[0;32m     55\u001b[0m         \u001b[0mprint\u001b[0m\u001b[1;33m(\u001b[0m\u001b[1;34mf'Number of possible solutions: {nCr(len(days), d):,}'\u001b[0m\u001b[1;33m)\u001b[0m\u001b[1;33m\u001b[0m\u001b[1;33m\u001b[0m\u001b[0m\n",
      "\u001b[1;31mKeyboardInterrupt\u001b[0m: "
     ]
    }
   ],
   "source": [
    "schoolgirl(15, 3)"
   ]
  },
  {
   "cell_type": "code",
   "execution_count": null,
   "metadata": {},
   "outputs": [],
   "source": [
    "for n in range(2, 16):\n",
    "    for g in range(2, n + 1):\n",
    "        schoolgirl(n, g)"
   ]
  }
 ]
}