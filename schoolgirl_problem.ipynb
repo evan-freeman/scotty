{
 "metadata": {
  "language_info": {
   "codemirror_mode": {
    "name": "ipython",
    "version": 3
   },
   "file_extension": ".py",
   "mimetype": "text/x-python",
   "name": "python",
   "nbconvert_exporter": "python",
   "pygments_lexer": "ipython3",
   "version": "3.7.7-final"
  },
  "orig_nbformat": 2,
  "kernelspec": {
   "name": "python_defaultSpec_1598114207286",
   "display_name": "Python 3.7.7 64-bit ('base': conda)"
  }
 },
 "nbformat": 4,
 "nbformat_minor": 2,
 "cells": [
  {
   "cell_type": "markdown",
   "metadata": {},
   "source": [
    "Here I will program a solution to Kirkman's schoolgirl problem\n",
    "\n",
    "https://en.wikipedia.org/wiki/Kirkman%27s_schoolgirl_problem"
   ]
  },
  {
   "cell_type": "code",
   "execution_count": 24,
   "metadata": {},
   "outputs": [],
   "source": [
    "import numpy as np\n",
    "from itertools import permutations, combinations\n",
    "import string"
   ]
  },
  {
   "cell_type": "code",
   "execution_count": 30,
   "metadata": {},
   "outputs": [],
   "source": [
    "n = 15\n",
    "g = 3\n",
    "names = {\n",
    "'A': 'Abigail',\n",
    "'B': 'Belle',\n",
    "'C': 'Crystal',\n",
    "'D': 'Delilah',\n",
    "'E': 'Emma',\n",
    "'F': 'Felicia',\n",
    "'G': 'Gabriella',\n",
    "'H': 'Harmony',\n",
    "'I': 'Iris',\n",
    "'J': 'Jasmine',\n",
    "'K': 'Kayleigh',\n",
    "'L': 'Lianna',\n",
    "'M': 'Madeline',\n",
    "'N': 'Nadia',\n",
    "'O': 'Olivia',\n",
    "'P': 'Priscilla',\n",
    "'Q': 'Quinn',\n",
    "'R': 'Renee',\n",
    "'S': 'Sami',\n",
    "'T': 'Tiffany',\n",
    "'U': 'Uma',\n",
    "'V': 'Victoria',\n",
    "'W': 'Wendy',\n",
    "'X': 'Xenia',\n",
    "'Y': 'Yasmine',\n",
    "'Z': 'Zoe'}\n",
    "\n",
    "girls = list(string.ascii_uppercase[:15])\n",
    "named_girls = [names[girl] for girl in girls]"
   ]
  },
  {
   "cell_type": "code",
   "execution_count": 31,
   "metadata": {},
   "outputs": [
    {
     "output_type": "execute_result",
     "data": {
      "text/plain": "['A', 'B', 'C', 'D', 'E', 'F', 'G', 'H', 'I', 'J', 'K', 'L', 'M', 'N', 'O']"
     },
     "metadata": {},
     "execution_count": 31
    }
   ],
   "source": [
    "girls"
   ]
  },
  {
   "cell_type": "code",
   "execution_count": 32,
   "metadata": {},
   "outputs": [
    {
     "output_type": "execute_result",
     "data": {
      "text/plain": "['Abigail',\n 'Belle',\n 'Crystal',\n 'Delilah',\n 'Emma',\n 'Felicia',\n 'Gabriella',\n 'Harmony',\n 'Iris',\n 'Jasmine',\n 'Kayleigh',\n 'Lianna',\n 'Madeline',\n 'Nadia',\n 'Olivia']"
     },
     "metadata": {},
     "execution_count": 32
    }
   ],
   "source": [
    "named_girls"
   ]
  },
  {
   "cell_type": "code",
   "execution_count": 28,
   "metadata": {},
   "outputs": [
    {
     "output_type": "error",
     "ename": "NameError",
     "evalue": "name 'combination' is not defined",
     "traceback": [
      "\u001b[1;31m---------------------------------------------------------------------------\u001b[0m",
      "\u001b[1;31mNameError\u001b[0m                                 Traceback (most recent call last)",
      "\u001b[1;32m<ipython-input-28-d8a6ac5bdf8a>\u001b[0m in \u001b[0;36m<module>\u001b[1;34m\u001b[0m\n\u001b[1;32m----> 1\u001b[1;33m \u001b[0mcombination\u001b[0m\u001b[1;33m\u001b[0m\u001b[1;33m\u001b[0m\u001b[0m\n\u001b[0m",
      "\u001b[1;31mNameError\u001b[0m: name 'combination' is not defined"
     ]
    }
   ],
   "source": [
    "groupts = combination()"
   ]
  },
  {
   "cell_type": "code",
   "execution_count": 29,
   "metadata": {},
   "outputs": [
    {
     "output_type": "error",
     "ename": "SyntaxError",
     "evalue": "unexpected EOF while parsing (<ipython-input-29-a88e5d24f3dd>, line 1)",
     "traceback": [
      "\u001b[1;36m  File \u001b[1;32m\"<ipython-input-29-a88e5d24f3dd>\"\u001b[1;36m, line \u001b[1;32m1\u001b[0m\n\u001b[1;33m    for solution in combinations(girls, 3):\u001b[0m\n\u001b[1;37m                                           ^\u001b[0m\n\u001b[1;31mSyntaxError\u001b[0m\u001b[1;31m:\u001b[0m unexpected EOF while parsing\n"
     ]
    }
   ],
   "source": [
    "for solution in combinations(girls, 3):"
   ]
  }
 ]
}